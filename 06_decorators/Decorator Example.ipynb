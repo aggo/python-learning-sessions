{
 "cells": [
  {
   "cell_type": "markdown",
   "id": "7828f90c",
   "metadata": {},
   "source": [
    "# Built-in Decorators"
   ]
  },
  {
   "cell_type": "markdown",
   "id": "551046f0",
   "metadata": {},
   "source": [
    "## @classmethod and @staticmethod"
   ]
  },
  {
   "cell_type": "markdown",
   "id": "adf3561c-1118-496a-86e4-5f9f96091fb0",
   "metadata": {},
   "source": [
    "Note: Based on mCoding's [Python staticmethod and classmethod video](https://www.youtube.com/watch?v=SXApHXsDe8I)"
   ]
  },
  {
   "cell_type": "code",
   "execution_count": null,
   "id": "c4f4d0ed",
   "metadata": {},
   "outputs": [],
   "source": [
    "import datetime\n",
    "import json\n",
    "from typing import List, Optional"
   ]
  },
  {
   "cell_type": "code",
   "execution_count": null,
   "id": "5da19a3b",
   "metadata": {},
   "outputs": [],
   "source": [
    "class Calendar:\n",
    "    def __init__(self, events: Optional[List[str]] = None):\n",
    "        if events is None:\n",
    "            events = []\n",
    "        self.events = events\n",
    "    \n",
    "    def add_event(self, event: str):\n",
    "        self.events.append(event)\n",
    "    \n",
    "    # @staticmethod\n",
    "    def is_weekend(self, date: datetime.date) -> bool:\n",
    "        return date.weekday() > 4\n"
   ]
  },
  {
   "cell_type": "code",
   "execution_count": null,
   "id": "5b323b92",
   "metadata": {},
   "outputs": [],
   "source": [
    "my_calendar = Calendar()\n",
    "my_calendar.add_event(\"Python Learning Group\")\n",
    "my_calendar.events"
   ]
  },
  {
   "cell_type": "code",
   "execution_count": null,
   "id": "554d3921",
   "metadata": {},
   "outputs": [],
   "source": [
    "todays_date = datetime.datetime.now().date()"
   ]
  },
  {
   "cell_type": "code",
   "execution_count": null,
   "id": "26bf5441",
   "metadata": {},
   "outputs": [],
   "source": [
    "my_calendar.is_weekend(todays_date)"
   ]
  },
  {
   "cell_type": "code",
   "execution_count": null,
   "id": "312053dd",
   "metadata": {},
   "outputs": [],
   "source": [
    "Calendar().is_weekend(todays_date)"
   ]
  },
  {
   "cell_type": "code",
   "execution_count": null,
   "id": "e8169c5f",
   "metadata": {},
   "outputs": [],
   "source": [
    "Calendar.is_weekend(todays_date)"
   ]
  },
  {
   "cell_type": "markdown",
   "id": "c0543239",
   "metadata": {},
   "source": [
    "Try making `is_weekend` a `staticmethod`."
   ]
  },
  {
   "cell_type": "code",
   "execution_count": null,
   "id": "601c42d9",
   "metadata": {},
   "outputs": [],
   "source": [
    "class Calendar:\n",
    "    def __init__(self, events: Optional[List[str]] = None):\n",
    "        if events is None:\n",
    "            events = []\n",
    "        self.events = events\n",
    "    \n",
    "    def add_event(self, event: str):\n",
    "        self.events.append(event)\n",
    "\n",
    "    # @classmethod\n",
    "    def from_txt(self, path: str):\n",
    "        \"\"\"Alternative constructor\"\"\"\n",
    "        with open(path) as file_ref:\n",
    "            return Calendar(file_ref.read().splitlines())"
   ]
  },
  {
   "cell_type": "code",
   "execution_count": null,
   "id": "90f4fdd3",
   "metadata": {},
   "outputs": [],
   "source": [
    "my_calendar = Calendar()\n",
    "new_calendar = my_calendar.from_txt(\"exported_events.txt\")\n",
    "new_calendar.events"
   ]
  },
  {
   "cell_type": "code",
   "execution_count": null,
   "id": "cd39dceb",
   "metadata": {},
   "outputs": [],
   "source": [
    "your_calendar = Calendar.from_txt(\"exported_events.txt\")\n",
    "your_calendar.events"
   ]
  },
  {
   "cell_type": "markdown",
   "id": "b21ea4ad",
   "metadata": {},
   "source": [
    "Try making `from_txt` a `classmethod`."
   ]
  },
  {
   "cell_type": "markdown",
   "id": "6e972b12",
   "metadata": {},
   "source": [
    "TLDR:\n",
    "* **instance** method: implicit first `self` parameter\n",
    "* **static** method: no implict first paramter\n",
    "* **class** method: implicit first `cls` parameter\n",
    "\n",
    "Note: `self`, `cls` are convetions"
   ]
  },
  {
   "cell_type": "code",
   "execution_count": null,
   "id": "1c5ba80b",
   "metadata": {},
   "outputs": [],
   "source": [
    "class StaticMethod:\n",
    "    def __init__(self, func):\n",
    "        self.func = func\n",
    "        \n",
    "    def __get__(self, instance, owner):\n",
    "        \"\"\"\n",
    "        Ignores instance and class it was called from\n",
    "        \"\"\"\n",
    "        return self.func\n",
    "    \n",
    "    def __call_(self, *args, **kwargs):\n",
    "        return self.func(*args, **kwargs)"
   ]
  },
  {
   "cell_type": "code",
   "execution_count": null,
   "id": "21ec9a35",
   "metadata": {},
   "outputs": [],
   "source": [
    "class ClassMethod:\n",
    "    def __init__(self, func):\n",
    "        self.func = func\n",
    "        \n",
    "    def __get__(self, instance, owner):\n",
    "        \"\"\"\n",
    "        Binds function to owner when getting function\n",
    "        instead of instance\n",
    "        \"\"\"\n",
    "        return self.func.__get__(owner)\n",
    "    \n",
    "    def __call_(self, *args, **kwargs):\n",
    "        return self.func(*args, **kwargs)"
   ]
  },
  {
   "cell_type": "code",
   "execution_count": null,
   "id": "ebf7a4a5",
   "metadata": {},
   "outputs": [],
   "source": [
    "class Calendar:\n",
    "    def __init__(self, events: Optional[List[str]] = None):\n",
    "        if events is None:\n",
    "            events = []\n",
    "        self.events = events\n",
    "    \n",
    "    def add_event(self, event: str):\n",
    "        self.events.append(event)\n",
    "\n",
    "    @classmethod\n",
    "    def from_txt(cls, path: str):\n",
    "        \"\"\"Alternative constructor\"\"\"\n",
    "        with open(path) as file_ref:\n",
    "            return cls(file_ref.read().splitlines())\n",
    "\n",
    "class SpecialCalendar(Calendar):\n",
    "    pass"
   ]
  },
  {
   "cell_type": "code",
   "execution_count": null,
   "id": "4d35189e",
   "metadata": {},
   "outputs": [],
   "source": [
    "type(SpecialCalendar.from_txt(\"exported_events.txt\"))"
   ]
  },
  {
   "cell_type": "markdown",
   "id": "63c3eed9",
   "metadata": {},
   "source": [
    "## @property"
   ]
  },
  {
   "cell_type": "code",
   "execution_count": null,
   "id": "2afce2a0",
   "metadata": {},
   "outputs": [],
   "source": [
    "class Person(object):\n",
    "    def __init__(self, first_name, last_name):\n",
    "        self.first_name = first_name\n",
    "        self.last_name = last_name\n",
    "    \n",
    "    @property\n",
    "    def full_name(self):\n",
    "        return f\"{self.first_name} {self.last_name}\""
   ]
  },
  {
   "cell_type": "code",
   "execution_count": null,
   "id": "660226e8",
   "metadata": {},
   "outputs": [],
   "source": [
    "person = Person(\"Jeffrey\", \"Bezos\")"
   ]
  },
  {
   "cell_type": "code",
   "execution_count": null,
   "id": "2878e4b1-ef8b-402f-8be8-637df4ef190d",
   "metadata": {},
   "outputs": [],
   "source": [
    "person.full_name()"
   ]
  },
  {
   "cell_type": "markdown",
   "id": "a7c6adb1",
   "metadata": {},
   "source": [
    "method is now a attribute"
   ]
  },
  {
   "cell_type": "code",
   "execution_count": null,
   "id": "a3ad923f",
   "metadata": {},
   "outputs": [],
   "source": [
    "person.full_name"
   ]
  },
  {
   "cell_type": "markdown",
   "id": "fcaa7dd0",
   "metadata": {},
   "source": [
    "method is now a **read-only** attribute"
   ]
  },
  {
   "cell_type": "code",
   "execution_count": null,
   "id": "9c156e76",
   "metadata": {},
   "outputs": [],
   "source": [
    "person.full_name = \"Jeff Bezos\""
   ]
  },
  {
   "cell_type": "markdown",
   "id": "528ad847",
   "metadata": {},
   "source": [
    "changing composite updates the property"
   ]
  },
  {
   "cell_type": "code",
   "execution_count": null,
   "id": "036907f6",
   "metadata": {},
   "outputs": [],
   "source": [
    "person.first_name = \"Jeff\"\n",
    "person.full_name"
   ]
  },
  {
   "cell_type": "markdown",
   "id": "8dd2c768",
   "metadata": {},
   "source": [
    "## @functools.cached_property"
   ]
  },
  {
   "cell_type": "code",
   "execution_count": null,
   "id": "731e0cbc-f50b-4abb-a34c-e2df3ce8920e",
   "metadata": {},
   "outputs": [],
   "source": [
    "!pip install numpy"
   ]
  },
  {
   "cell_type": "code",
   "execution_count": null,
   "id": "e8329d23",
   "metadata": {},
   "outputs": [],
   "source": [
    "import statistics\n",
    "from functools import cached_property\n",
    "\n",
    "import numpy as np"
   ]
  },
  {
   "cell_type": "code",
   "execution_count": null,
   "id": "6f1534fb",
   "metadata": {},
   "outputs": [],
   "source": [
    "class DataSet:\n",
    "    def __init__(self, numbers: List):\n",
    "        self.data = numbers\n",
    "        \n",
    "    @property\n",
    "    def stdev(self):\n",
    "        return statistics.stdev(self.data)\n",
    "    \n",
    "    @cached_property\n",
    "    def variance(self):\n",
    "        return statistics.variance(self.data)"
   ]
  },
  {
   "cell_type": "code",
   "execution_count": null,
   "id": "a31e25e8",
   "metadata": {},
   "outputs": [],
   "source": [
    "measurements = DataSet(np.random.rand(1_000_000).tolist())"
   ]
  },
  {
   "cell_type": "markdown",
   "id": "08c0b99d",
   "metadata": {},
   "source": [
    "calculating normal property"
   ]
  },
  {
   "cell_type": "code",
   "execution_count": null,
   "id": "e47abcfe",
   "metadata": {},
   "outputs": [],
   "source": [
    "%%timeit -n 1 -r 1\n",
    "measurements.stdev"
   ]
  },
  {
   "cell_type": "markdown",
   "id": "a92b09f8",
   "metadata": {},
   "source": [
    "reusing cached property"
   ]
  },
  {
   "cell_type": "code",
   "execution_count": null,
   "id": "1fa61c91",
   "metadata": {},
   "outputs": [],
   "source": [
    "%%timeit -n 1 -r 1\n",
    "measurements.variance"
   ]
  },
  {
   "cell_type": "code",
   "execution_count": null,
   "id": "5371e439",
   "metadata": {},
   "outputs": [],
   "source": [
    "%%timeit -n 1 -r 1\n",
    "measurements.variance"
   ]
  },
  {
   "cell_type": "markdown",
   "id": "e3268653",
   "metadata": {},
   "source": [
    "cached property is also overwritable"
   ]
  },
  {
   "cell_type": "code",
   "execution_count": null,
   "id": "aa02b11f",
   "metadata": {},
   "outputs": [],
   "source": [
    "measurements.variance = 0."
   ]
  },
  {
   "cell_type": "markdown",
   "id": "6ac08b4b",
   "metadata": {},
   "source": [
    "# `pytest` Decorators"
   ]
  },
  {
   "cell_type": "markdown",
   "id": "34fdba6c-6262-4a3a-821c-9017f62eb472",
   "metadata": {},
   "source": [
    "https://docs.pytest.org"
   ]
  },
  {
   "cell_type": "code",
   "execution_count": null,
   "id": "022e005f",
   "metadata": {},
   "outputs": [],
   "source": [
    "!pip install pytest"
   ]
  },
  {
   "cell_type": "code",
   "execution_count": null,
   "id": "be7fdba4",
   "metadata": {},
   "outputs": [],
   "source": [
    "from pathlib import Path\n",
    "\n",
    "import pytest"
   ]
  },
  {
   "cell_type": "markdown",
   "id": "e75bad6e",
   "metadata": {},
   "source": [
    "## parametrize"
   ]
  },
  {
   "cell_type": "code",
   "execution_count": null,
   "id": "66e15a87",
   "metadata": {},
   "outputs": [],
   "source": [
    "@pytest.mark.parametrize(\"x\", [0, 1])\n",
    "@pytest.mark.parametrize(\"y\", [2, 3])\n",
    "def test_foo(x, y):\n",
    "    assert x != y"
   ]
  },
  {
   "cell_type": "markdown",
   "id": "1410930c",
   "metadata": {},
   "source": [
    "## fixture"
   ]
  },
  {
   "cell_type": "code",
   "execution_count": null,
   "id": "c1a623ed",
   "metadata": {},
   "outputs": [],
   "source": [
    "@pytest.fixture(scope=\"session\")\n",
    "def working_directory():\n",
    "    return Path.cwd()"
   ]
  },
  {
   "cell_type": "code",
   "execution_count": null,
   "id": "6df116e1",
   "metadata": {},
   "outputs": [],
   "source": [
    "def test_cwd(working_directory):\n",
    "    assert working_directory.exists()"
   ]
  },
  {
   "cell_type": "markdown",
   "id": "d4204998",
   "metadata": {},
   "source": [
    "# CLI with `click`"
   ]
  },
  {
   "cell_type": "markdown",
   "id": "b7e508fb",
   "metadata": {},
   "source": [
    "https://click.palletsprojects.com"
   ]
  },
  {
   "cell_type": "code",
   "execution_count": null,
   "id": "cadd4e2b-64d1-4d9a-9032-b8f00b615e80",
   "metadata": {},
   "outputs": [],
   "source": [
    "!pip install click"
   ]
  },
  {
   "cell_type": "code",
   "execution_count": null,
   "id": "95c5a367",
   "metadata": {},
   "outputs": [],
   "source": [
    "import click"
   ]
  },
  {
   "cell_type": "code",
   "execution_count": null,
   "id": "301bc8d0",
   "metadata": {},
   "outputs": [],
   "source": [
    "@click.command()\n",
    "@click.option('--count', default=1, help='Number of greetings.')\n",
    "@click.option('--name', prompt='Your name',\n",
    "              help='The person to greet.')\n",
    "def hello(count, name):\n",
    "    \"\"\"Simple program that greets NAME for a total of COUNT times.\"\"\"\n",
    "    for x in range(count):\n",
    "        click.echo(f\"Hello {name}!\")"
   ]
  },
  {
   "cell_type": "code",
   "execution_count": null,
   "id": "7ba0a4c7",
   "metadata": {},
   "outputs": [],
   "source": []
  }
 ],
 "metadata": {
  "kernelspec": {
   "display_name": "Python 3 (ipykernel)",
   "language": "python",
   "name": "python3"
  },
  "language_info": {
   "codemirror_mode": {
    "name": "ipython",
    "version": 3
   },
   "file_extension": ".py",
   "mimetype": "text/x-python",
   "name": "python",
   "nbconvert_exporter": "python",
   "pygments_lexer": "ipython3",
   "version": "3.8.10"
  }
 },
 "nbformat": 4,
 "nbformat_minor": 5
}
