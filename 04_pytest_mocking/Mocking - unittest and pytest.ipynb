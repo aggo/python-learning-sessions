{
 "cells": [
  {
   "cell_type": "markdown",
   "id": "8ff10540",
   "metadata": {},
   "source": [
    "# Unittest.mock"
   ]
  },
  {
   "cell_type": "markdown",
   "id": "1e665943",
   "metadata": {},
   "source": [
    "* Mock\n",
    "* MagicMock\n",
    "* the patch method"
   ]
  },
  {
   "cell_type": "markdown",
   "id": "e6399e53",
   "metadata": {},
   "source": [
    "The Mock class can be used for mocking any object.\n",
    "When we access a method/attribute, it is created on the fly."
   ]
  },
  {
   "cell_type": "code",
   "execution_count": 2,
   "id": "adcf4259",
   "metadata": {},
   "outputs": [],
   "source": [
    "from unittest.mock import Mock\n",
    "my_mock = Mock()"
   ]
  },
  {
   "cell_type": "code",
   "execution_count": 3,
   "id": "b8556387",
   "metadata": {},
   "outputs": [
    {
     "data": {
      "text/plain": [
       "<Mock name='mock.any_attr' id='140272516920320'>"
      ]
     },
     "execution_count": 3,
     "metadata": {},
     "output_type": "execute_result"
    }
   ],
   "source": [
    "my_mock.any_attr"
   ]
  },
  {
   "cell_type": "markdown",
   "id": "9389448e",
   "metadata": {},
   "source": [
    "Same id, if we try to access it again since it's already been created"
   ]
  },
  {
   "cell_type": "code",
   "execution_count": 4,
   "id": "954ec719",
   "metadata": {},
   "outputs": [
    {
     "data": {
      "text/plain": [
       "<Mock name='mock.any_attr' id='140272516920320'>"
      ]
     },
     "execution_count": 4,
     "metadata": {},
     "output_type": "execute_result"
    }
   ],
   "source": [
    "my_mock.any_attr"
   ]
  },
  {
   "cell_type": "code",
   "execution_count": 5,
   "id": "133c3f27",
   "metadata": {},
   "outputs": [],
   "source": [
    "my_mock.any_attr = 10"
   ]
  },
  {
   "cell_type": "code",
   "execution_count": 6,
   "id": "53cbcb29",
   "metadata": {},
   "outputs": [
    {
     "data": {
      "text/plain": [
       "10"
      ]
     },
     "execution_count": 6,
     "metadata": {},
     "output_type": "execute_result"
    }
   ],
   "source": [
    "my_mock.any_attr"
   ]
  },
  {
   "cell_type": "markdown",
   "id": "b538ddbd",
   "metadata": {},
   "source": [
    "Output of json.dumps normally"
   ]
  },
  {
   "cell_type": "code",
   "execution_count": 11,
   "id": "06969028",
   "metadata": {},
   "outputs": [
    {
     "data": {
      "text/plain": [
       "'[\"foo\", {\"bar\": [\"baz\", null, 1.0, 2]}]'"
      ]
     },
     "execution_count": 11,
     "metadata": {},
     "output_type": "execute_result"
    }
   ],
   "source": [
    "import json\n",
    "json.dumps(['foo', {'bar': ('baz', None, 1.0, 2)}])"
   ]
  },
  {
   "cell_type": "code",
   "execution_count": 13,
   "id": "861b687d",
   "metadata": {},
   "outputs": [
    {
     "data": {
      "text/plain": [
       "<Mock name='mock.dumps()' id='140272516546864'>"
      ]
     },
     "execution_count": 13,
     "metadata": {},
     "output_type": "execute_result"
    }
   ],
   "source": [
    "json = Mock()\n",
    "json.dumps(['foo', {'bar': ('baz', None, 1.0, 2)}])"
   ]
  },
  {
   "cell_type": "code",
   "execution_count": 17,
   "id": "7cb8a0c9",
   "metadata": {},
   "outputs": [],
   "source": [
    "json.dumps.assert_called_once()"
   ]
  },
  {
   "cell_type": "code",
   "execution_count": 18,
   "id": "1fa3c27b",
   "metadata": {},
   "outputs": [
    {
     "ename": "AssertionError",
     "evalue": "expected call not found.\nExpected: dumps(3)\nActual: dumps(['foo', {'bar': ('baz', None, 1.0, 2)}])",
     "output_type": "error",
     "traceback": [
      "\u001B[0;31m---------------------------------------------------------------------------\u001B[0m",
      "\u001B[0;31mAssertionError\u001B[0m                            Traceback (most recent call last)",
      "Input \u001B[0;32mIn [18]\u001B[0m, in \u001B[0;36m<module>\u001B[0;34m\u001B[0m\n\u001B[0;32m----> 1\u001B[0m \u001B[43mjson\u001B[49m\u001B[38;5;241;43m.\u001B[39;49m\u001B[43mdumps\u001B[49m\u001B[38;5;241;43m.\u001B[39;49m\u001B[43massert_called_with\u001B[49m\u001B[43m(\u001B[49m\u001B[38;5;241;43m3\u001B[39;49m\u001B[43m)\u001B[49m\n",
      "File \u001B[0;32m/usr/lib/python3.8/unittest/mock.py:913\u001B[0m, in \u001B[0;36mNonCallableMock.assert_called_with\u001B[0;34m(self, *args, **kwargs)\u001B[0m\n\u001B[1;32m    911\u001B[0m \u001B[38;5;28;01mif\u001B[39;00m expected \u001B[38;5;241m!=\u001B[39m actual:\n\u001B[1;32m    912\u001B[0m     cause \u001B[38;5;241m=\u001B[39m expected \u001B[38;5;28;01mif\u001B[39;00m \u001B[38;5;28misinstance\u001B[39m(expected, \u001B[38;5;167;01mException\u001B[39;00m) \u001B[38;5;28;01melse\u001B[39;00m \u001B[38;5;28;01mNone\u001B[39;00m\n\u001B[0;32m--> 913\u001B[0m     \u001B[38;5;28;01mraise\u001B[39;00m \u001B[38;5;167;01mAssertionError\u001B[39;00m(_error_message()) \u001B[38;5;28;01mfrom\u001B[39;00m \u001B[38;5;21;01mcause\u001B[39;00m\n",
      "\u001B[0;31mAssertionError\u001B[0m: expected call not found.\nExpected: dumps(3)\nActual: dumps(['foo', {'bar': ('baz', None, 1.0, 2)}])"
     ]
    }
   ],
   "source": [
    "json.dumps.assert_called_with(3)"
   ]
  },
  {
   "cell_type": "markdown",
   "id": "8eb2e5fb",
   "metadata": {},
   "source": [
    "Set return value of a method of a mock"
   ]
  },
  {
   "cell_type": "code",
   "execution_count": 19,
   "id": "57a8c7ef",
   "metadata": {},
   "outputs": [
    {
     "data": {
      "text/plain": [
       "3"
      ]
     },
     "execution_count": 19,
     "metadata": {},
     "output_type": "execute_result"
    }
   ],
   "source": [
    "my_mock = Mock()\n",
    "my_mock.method.return_value = 3\n",
    "my_mock.method()"
   ]
  },
  {
   "cell_type": "markdown",
   "id": "0720d1d1",
   "metadata": {},
   "source": [
    "Set side effect of mock (can be an iterable/an exception/a function)"
   ]
  },
  {
   "cell_type": "code",
   "execution_count": 20,
   "id": "4ddfd83d",
   "metadata": {},
   "outputs": [],
   "source": [
    "my_mock.method.side_effect=Exception(\"Boom!\")"
   ]
  },
  {
   "cell_type": "code",
   "execution_count": 21,
   "id": "c31a0a52",
   "metadata": {
    "scrolled": true
   },
   "outputs": [
    {
     "ename": "Exception",
     "evalue": "Boom!",
     "output_type": "error",
     "traceback": [
      "\u001B[0;31m---------------------------------------------------------------------------\u001B[0m",
      "\u001B[0;31mException\u001B[0m                                 Traceback (most recent call last)",
      "Input \u001B[0;32mIn [21]\u001B[0m, in \u001B[0;36m<module>\u001B[0;34m\u001B[0m\n\u001B[0;32m----> 1\u001B[0m \u001B[43mmy_mock\u001B[49m\u001B[38;5;241;43m.\u001B[39;49m\u001B[43mmethod\u001B[49m\u001B[43m(\u001B[49m\u001B[43m)\u001B[49m\n",
      "File \u001B[0;32m/usr/lib/python3.8/unittest/mock.py:1081\u001B[0m, in \u001B[0;36mCallableMixin.__call__\u001B[0;34m(self, *args, **kwargs)\u001B[0m\n\u001B[1;32m   1079\u001B[0m \u001B[38;5;28mself\u001B[39m\u001B[38;5;241m.\u001B[39m_mock_check_sig(\u001B[38;5;241m*\u001B[39margs, \u001B[38;5;241m*\u001B[39m\u001B[38;5;241m*\u001B[39mkwargs)\n\u001B[1;32m   1080\u001B[0m \u001B[38;5;28mself\u001B[39m\u001B[38;5;241m.\u001B[39m_increment_mock_call(\u001B[38;5;241m*\u001B[39margs, \u001B[38;5;241m*\u001B[39m\u001B[38;5;241m*\u001B[39mkwargs)\n\u001B[0;32m-> 1081\u001B[0m \u001B[38;5;28;01mreturn\u001B[39;00m \u001B[38;5;28;43mself\u001B[39;49m\u001B[38;5;241;43m.\u001B[39;49m\u001B[43m_mock_call\u001B[49m\u001B[43m(\u001B[49m\u001B[38;5;241;43m*\u001B[39;49m\u001B[43margs\u001B[49m\u001B[43m,\u001B[49m\u001B[43m \u001B[49m\u001B[38;5;241;43m*\u001B[39;49m\u001B[38;5;241;43m*\u001B[39;49m\u001B[43mkwargs\u001B[49m\u001B[43m)\u001B[49m\n",
      "File \u001B[0;32m/usr/lib/python3.8/unittest/mock.py:1085\u001B[0m, in \u001B[0;36mCallableMixin._mock_call\u001B[0;34m(self, *args, **kwargs)\u001B[0m\n\u001B[1;32m   1084\u001B[0m \u001B[38;5;28;01mdef\u001B[39;00m \u001B[38;5;21m_mock_call\u001B[39m(\u001B[38;5;28mself\u001B[39m, \u001B[38;5;241m/\u001B[39m, \u001B[38;5;241m*\u001B[39margs, \u001B[38;5;241m*\u001B[39m\u001B[38;5;241m*\u001B[39mkwargs):\n\u001B[0;32m-> 1085\u001B[0m     \u001B[38;5;28;01mreturn\u001B[39;00m \u001B[38;5;28;43mself\u001B[39;49m\u001B[38;5;241;43m.\u001B[39;49m\u001B[43m_execute_mock_call\u001B[49m\u001B[43m(\u001B[49m\u001B[38;5;241;43m*\u001B[39;49m\u001B[43margs\u001B[49m\u001B[43m,\u001B[49m\u001B[43m \u001B[49m\u001B[38;5;241;43m*\u001B[39;49m\u001B[38;5;241;43m*\u001B[39;49m\u001B[43mkwargs\u001B[49m\u001B[43m)\u001B[49m\n",
      "File \u001B[0;32m/usr/lib/python3.8/unittest/mock.py:1140\u001B[0m, in \u001B[0;36mCallableMixin._execute_mock_call\u001B[0;34m(self, *args, **kwargs)\u001B[0m\n\u001B[1;32m   1138\u001B[0m \u001B[38;5;28;01mif\u001B[39;00m effect \u001B[38;5;129;01mis\u001B[39;00m \u001B[38;5;129;01mnot\u001B[39;00m \u001B[38;5;28;01mNone\u001B[39;00m:\n\u001B[1;32m   1139\u001B[0m     \u001B[38;5;28;01mif\u001B[39;00m _is_exception(effect):\n\u001B[0;32m-> 1140\u001B[0m         \u001B[38;5;28;01mraise\u001B[39;00m effect\n\u001B[1;32m   1141\u001B[0m     \u001B[38;5;28;01melif\u001B[39;00m \u001B[38;5;129;01mnot\u001B[39;00m _callable(effect):\n\u001B[1;32m   1142\u001B[0m         result \u001B[38;5;241m=\u001B[39m \u001B[38;5;28mnext\u001B[39m(effect)\n",
      "\u001B[0;31mException\u001B[0m: Boom!"
     ]
    }
   ],
   "source": [
    "my_mock.method()"
   ]
  },
  {
   "cell_type": "code",
   "execution_count": 23,
   "id": "01ed1261",
   "metadata": {},
   "outputs": [
    {
     "data": {
      "text/plain": [
       "'function side effect'"
      ]
     },
     "execution_count": 23,
     "metadata": {},
     "output_type": "execute_result"
    }
   ],
   "source": [
    "def my_side_effect(*args, **kwargs):\n",
    "    return \"function side effect\"\n",
    "\n",
    "my_mock.method.side_effect = my_side_effect\n",
    "my_mock.method()"
   ]
  },
  {
   "cell_type": "markdown",
   "id": "5b8b152f",
   "metadata": {},
   "source": [
    "Magic methods (aka dunder (**d**ouble **under**scores) methods) = methods that start and end with double underscores  \n",
    "Not meant to be called directly, will be called internaly through some other methods or actions"
   ]
  },
  {
   "cell_type": "code",
   "execution_count": 31,
   "id": "14eb0a07",
   "metadata": {
    "scrolled": true
   },
   "outputs": [
    {
     "data": {
      "text/plain": [
       "['__abs__',\n",
       " '__add__',\n",
       " '__and__',\n",
       " '__bool__',\n",
       " '__ceil__',\n",
       " '__class__',\n",
       " '__delattr__',\n",
       " '__dir__',\n",
       " '__divmod__',\n",
       " '__doc__',\n",
       " '__eq__',\n",
       " '__float__',\n",
       " '__floor__',\n",
       " '__floordiv__',\n",
       " '__format__',\n",
       " '__ge__',\n",
       " '__getattribute__',\n",
       " '__getnewargs__',\n",
       " '__gt__',\n",
       " '__hash__',\n",
       " '__index__',\n",
       " '__init__',\n",
       " '__init_subclass__',\n",
       " '__int__',\n",
       " '__invert__',\n",
       " '__le__',\n",
       " '__lshift__',\n",
       " '__lt__',\n",
       " '__mod__',\n",
       " '__mul__',\n",
       " '__ne__',\n",
       " '__neg__',\n",
       " '__new__',\n",
       " '__or__',\n",
       " '__pos__',\n",
       " '__pow__',\n",
       " '__radd__',\n",
       " '__rand__',\n",
       " '__rdivmod__',\n",
       " '__reduce__',\n",
       " '__reduce_ex__',\n",
       " '__repr__',\n",
       " '__rfloordiv__',\n",
       " '__rlshift__',\n",
       " '__rmod__',\n",
       " '__rmul__',\n",
       " '__ror__',\n",
       " '__round__',\n",
       " '__rpow__',\n",
       " '__rrshift__',\n",
       " '__rshift__',\n",
       " '__rsub__',\n",
       " '__rtruediv__',\n",
       " '__rxor__',\n",
       " '__setattr__',\n",
       " '__sizeof__',\n",
       " '__str__',\n",
       " '__sub__',\n",
       " '__subclasshook__',\n",
       " '__truediv__',\n",
       " '__trunc__',\n",
       " '__xor__',\n",
       " 'as_integer_ratio',\n",
       " 'bit_length',\n",
       " 'conjugate',\n",
       " 'denominator',\n",
       " 'from_bytes',\n",
       " 'imag',\n",
       " 'numerator',\n",
       " 'real',\n",
       " 'to_bytes']"
      ]
     },
     "execution_count": 31,
     "metadata": {},
     "output_type": "execute_result"
    }
   ],
   "source": [
    "dir(int)  # see all methods of int"
   ]
  },
  {
   "cell_type": "code",
   "execution_count": 28,
   "id": "ac7c7232",
   "metadata": {},
   "outputs": [
    {
     "data": {
      "text/plain": [
       "15"
      ]
     },
     "execution_count": 28,
     "metadata": {},
     "output_type": "execute_result"
    }
   ],
   "source": [
    "nr = 5\n",
    "nr + 10  # plus operator will interally call __add__"
   ]
  },
  {
   "cell_type": "code",
   "execution_count": 29,
   "id": "1a24231e",
   "metadata": {},
   "outputs": [
    {
     "data": {
      "text/plain": [
       "15"
      ]
     },
     "execution_count": 29,
     "metadata": {},
     "output_type": "execute_result"
    }
   ],
   "source": [
    "nr.__add__(10)"
   ]
  },
  {
   "cell_type": "markdown",
   "id": "4b9a3910",
   "metadata": {},
   "source": [
    "MagicMock is a subclass of Mock with default implementations of most of the magic methods. You can use MagicMock without having to configure the magic methods yourself."
   ]
  },
  {
   "cell_type": "code",
   "execution_count": 24,
   "id": "fffecdc3",
   "metadata": {},
   "outputs": [],
   "source": [
    "from unittest.mock import MagicMock\n",
    "mock = MagicMock()"
   ]
  },
  {
   "cell_type": "code",
   "execution_count": 25,
   "id": "dd22763e",
   "metadata": {},
   "outputs": [
    {
     "data": {
      "text/plain": [
       "0"
      ]
     },
     "execution_count": 25,
     "metadata": {},
     "output_type": "execute_result"
    }
   ],
   "source": [
    "len(mock)"
   ]
  },
  {
   "cell_type": "code",
   "execution_count": 26,
   "id": "8452759c",
   "metadata": {},
   "outputs": [],
   "source": [
    "mock2 = Mock()"
   ]
  },
  {
   "cell_type": "code",
   "execution_count": 27,
   "id": "c24511b4",
   "metadata": {},
   "outputs": [
    {
     "ename": "TypeError",
     "evalue": "object of type 'Mock' has no len()",
     "output_type": "error",
     "traceback": [
      "\u001B[0;31m---------------------------------------------------------------------------\u001B[0m",
      "\u001B[0;31mTypeError\u001B[0m                                 Traceback (most recent call last)",
      "Input \u001B[0;32mIn [27]\u001B[0m, in \u001B[0;36m<module>\u001B[0;34m\u001B[0m\n\u001B[0;32m----> 1\u001B[0m \u001B[38;5;28;43mlen\u001B[39;49m\u001B[43m(\u001B[49m\u001B[43mmock2\u001B[49m\u001B[43m)\u001B[49m\n",
      "\u001B[0;31mTypeError\u001B[0m: object of type 'Mock' has no len()"
     ]
    }
   ],
   "source": [
    "len(mock2)"
   ]
  },
  {
   "cell_type": "code",
   "execution_count": 28,
   "id": "7dcff9b0",
   "metadata": {},
   "outputs": [
    {
     "data": {
      "text/plain": [
       "['__len__',\n",
       " 'assert_any_call',\n",
       " 'assert_called',\n",
       " 'assert_called_once',\n",
       " 'assert_called_once_with',\n",
       " 'assert_called_with',\n",
       " 'assert_has_calls',\n",
       " 'assert_not_called',\n",
       " 'attach_mock',\n",
       " 'call_args',\n",
       " 'call_args_list',\n",
       " 'call_count',\n",
       " 'called',\n",
       " 'configure_mock',\n",
       " 'method_calls',\n",
       " 'mock_add_spec',\n",
       " 'mock_calls',\n",
       " 'reset_mock',\n",
       " 'return_value',\n",
       " 'side_effect']"
      ]
     },
     "execution_count": 28,
     "metadata": {},
     "output_type": "execute_result"
    }
   ],
   "source": [
    "dir(mock)"
   ]
  },
  {
   "cell_type": "code",
   "execution_count": 29,
   "id": "4c7a4aa4",
   "metadata": {},
   "outputs": [
    {
     "data": {
      "text/plain": [
       "['assert_any_call',\n",
       " 'assert_called',\n",
       " 'assert_called_once',\n",
       " 'assert_called_once_with',\n",
       " 'assert_called_with',\n",
       " 'assert_has_calls',\n",
       " 'assert_not_called',\n",
       " 'attach_mock',\n",
       " 'call_args',\n",
       " 'call_args_list',\n",
       " 'call_count',\n",
       " 'called',\n",
       " 'configure_mock',\n",
       " 'method_calls',\n",
       " 'mock_add_spec',\n",
       " 'mock_calls',\n",
       " 'reset_mock',\n",
       " 'return_value',\n",
       " 'side_effect']"
      ]
     },
     "execution_count": 29,
     "metadata": {},
     "output_type": "execute_result"
    }
   ],
   "source": [
    "dir(mock2)"
   ]
  },
  {
   "cell_type": "markdown",
   "id": "051b3dc7",
   "metadata": {},
   "source": [
    "Most of the times, unless we need to test any magic methods on our mock, we can just use Mock, and not MagicMock, also because tests should be minimal and mock objects should be minimally functional."
   ]
  },
  {
   "cell_type": "markdown",
   "id": "833f1b24",
   "metadata": {},
   "source": [
    "## the patch method"
   ]
  },
  {
   "cell_type": "markdown",
   "id": "aa4eafa5",
   "metadata": {},
   "source": [
    "= looks up an object in a given module and replaces it with another object"
   ]
  },
  {
   "cell_type": "markdown",
   "id": "349ce4eb",
   "metadata": {},
   "source": [
    "### Gotcha: In general, when you mock an object, you want to mock where the object is imported *into*, not where the object is imported *from*."
   ]
  },
  {
   "cell_type": "markdown",
   "id": "15fffdbb",
   "metadata": {},
   "source": [
    "see mock_example project test"
   ]
  },
  {
   "cell_type": "markdown",
   "id": "d21c357a",
   "metadata": {},
   "source": [
    "# pytest mocking"
   ]
  },
  {
   "cell_type": "markdown",
   "id": "f6b93d61",
   "metadata": {},
   "source": [
    "### either using the pytest-mock library, which provides a fixture called mocker (which is a wrapper over the patching api from unittest.mock0\n",
    "### or using monkeypatch fixture from pytest directly"
   ]
  },
  {
   "cell_type": "markdown",
   "id": "8078b832",
   "metadata": {},
   "source": [
    "mocker.patch uses MagicMocks"
   ]
  },
  {
   "cell_type": "markdown",
   "id": "759657ac",
   "metadata": {},
   "source": [
    "see mock_example project test\n"
   ]
  }
 ],
 "metadata": {
  "kernelspec": {
   "display_name": "Python 3 (ipykernel)",
   "language": "python",
   "name": "python3"
  },
  "language_info": {
   "codemirror_mode": {
    "name": "ipython",
    "version": 3
   },
   "file_extension": ".py",
   "mimetype": "text/x-python",
   "name": "python",
   "nbconvert_exporter": "python",
   "pygments_lexer": "ipython3",
   "version": "3.8.10"
  }
 },
 "nbformat": 4,
 "nbformat_minor": 5
}